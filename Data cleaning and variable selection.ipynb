{
 "cells": [
  {
   "cell_type": "markdown",
   "metadata": {},
   "source": [
    "# Data cleaning and variable selection"
   ]
  },
  {
   "cell_type": "code",
   "execution_count": 1,
   "metadata": {
    "collapsed": true
   },
   "outputs": [],
   "source": [
    "import numpy as np\n",
    "import pandas as pd\n",
    "from sklearn.cross_validation import StratifiedKFold\n",
    "from sklearn.grid_search import GridSearchCV\n",
    "from sklearn.ensemble import RandomForestClassifier\n",
    "from sklearn.tree import DecisionTreeClassifier\n",
    "from sklearn.linear_model import Lasso\n",
    "from sklearn.preprocessing import MinMaxScaler, StandardScaler\n",
    "from sklearn.metrics import roc_auc_score\n",
    "import matplotlib.pyplot as plt\n",
    "%matplotlib inline\n",
    "from sklearn import metrics"
   ]
  },
  {
   "cell_type": "code",
   "execution_count": 3,
   "metadata": {
    "collapsed": false
   },
   "outputs": [],
   "source": [
    "#Chargement du fichier dataProjet.csv dans le dataframe df, n'oubliez pas de modifier le chemin \n",
    "#pour tenir compte de l'endroit ou se trouve votre fichier\n",
    "df = pd.read_csv(\"train.csv\")"
   ]
  },
  {
   "cell_type": "code",
   "execution_count": 4,
   "metadata": {
    "collapsed": false
   },
   "outputs": [
    {
     "data": {
      "text/html": [
       "<div>\n",
       "<table border=\"1\" class=\"dataframe\">\n",
       "  <thead>\n",
       "    <tr style=\"text-align: right;\">\n",
       "      <th></th>\n",
       "      <th>TARGET</th>\n",
       "      <th>Percentage</th>\n",
       "    </tr>\n",
       "  </thead>\n",
       "  <tbody>\n",
       "    <tr>\n",
       "      <th>0</th>\n",
       "      <td>73012</td>\n",
       "      <td>96.043147</td>\n",
       "    </tr>\n",
       "    <tr>\n",
       "      <th>1</th>\n",
       "      <td>3008</td>\n",
       "      <td>3.956853</td>\n",
       "    </tr>\n",
       "  </tbody>\n",
       "</table>\n",
       "</div>"
      ],
      "text/plain": [
       "   TARGET  Percentage\n",
       "0   73012   96.043147\n",
       "1    3008    3.956853"
      ]
     },
     "execution_count": 4,
     "metadata": {},
     "output_type": "execute_result"
    }
   ],
   "source": [
    "# happy customers have TARGET==0, unhappy custormers have TARGET==1\n",
    "# A little less then 4% are unhappy => unbalanced dataset\n",
    "data = pd.DataFrame(df.TARGET.value_counts())\n",
    "data['Percentage'] = 100*data['TARGET']/df.shape[0]\n",
    "data"
   ]
  },
  {
   "cell_type": "code",
   "execution_count": 5,
   "metadata": {
    "collapsed": false
   },
   "outputs": [
    {
     "data": {
      "text/html": [
       "<div>\n",
       "<table border=\"1\" class=\"dataframe\">\n",
       "  <thead>\n",
       "    <tr style=\"text-align: right;\">\n",
       "      <th></th>\n",
       "      <th>ID</th>\n",
       "      <th>var3</th>\n",
       "      <th>var15</th>\n",
       "      <th>imp_ent_var16_ult1</th>\n",
       "      <th>imp_op_var39_comer_ult1</th>\n",
       "      <th>imp_op_var39_comer_ult3</th>\n",
       "      <th>imp_op_var40_comer_ult1</th>\n",
       "      <th>imp_op_var40_comer_ult3</th>\n",
       "      <th>imp_op_var40_efect_ult1</th>\n",
       "      <th>imp_op_var40_efect_ult3</th>\n",
       "      <th>...</th>\n",
       "      <th>saldo_medio_var33_hace2</th>\n",
       "      <th>saldo_medio_var33_hace3</th>\n",
       "      <th>saldo_medio_var33_ult1</th>\n",
       "      <th>saldo_medio_var33_ult3</th>\n",
       "      <th>saldo_medio_var44_hace2</th>\n",
       "      <th>saldo_medio_var44_hace3</th>\n",
       "      <th>saldo_medio_var44_ult1</th>\n",
       "      <th>saldo_medio_var44_ult3</th>\n",
       "      <th>var38</th>\n",
       "      <th>TARGET</th>\n",
       "    </tr>\n",
       "  </thead>\n",
       "  <tbody>\n",
       "    <tr>\n",
       "      <th>0</th>\n",
       "      <td>1</td>\n",
       "      <td>2</td>\n",
       "      <td>23</td>\n",
       "      <td>0.0</td>\n",
       "      <td>0.0</td>\n",
       "      <td>0.0</td>\n",
       "      <td>0.0</td>\n",
       "      <td>0.0</td>\n",
       "      <td>0.0</td>\n",
       "      <td>0.0</td>\n",
       "      <td>...</td>\n",
       "      <td>0.0</td>\n",
       "      <td>0.0</td>\n",
       "      <td>0.0</td>\n",
       "      <td>0.0</td>\n",
       "      <td>0.0</td>\n",
       "      <td>0.0</td>\n",
       "      <td>0.0</td>\n",
       "      <td>0.0</td>\n",
       "      <td>39205.170000</td>\n",
       "      <td>0</td>\n",
       "    </tr>\n",
       "    <tr>\n",
       "      <th>1</th>\n",
       "      <td>3</td>\n",
       "      <td>2</td>\n",
       "      <td>34</td>\n",
       "      <td>0.0</td>\n",
       "      <td>0.0</td>\n",
       "      <td>0.0</td>\n",
       "      <td>0.0</td>\n",
       "      <td>0.0</td>\n",
       "      <td>0.0</td>\n",
       "      <td>0.0</td>\n",
       "      <td>...</td>\n",
       "      <td>0.0</td>\n",
       "      <td>0.0</td>\n",
       "      <td>0.0</td>\n",
       "      <td>0.0</td>\n",
       "      <td>0.0</td>\n",
       "      <td>0.0</td>\n",
       "      <td>0.0</td>\n",
       "      <td>0.0</td>\n",
       "      <td>49278.030000</td>\n",
       "      <td>0</td>\n",
       "    </tr>\n",
       "    <tr>\n",
       "      <th>2</th>\n",
       "      <td>4</td>\n",
       "      <td>2</td>\n",
       "      <td>23</td>\n",
       "      <td>0.0</td>\n",
       "      <td>0.0</td>\n",
       "      <td>0.0</td>\n",
       "      <td>0.0</td>\n",
       "      <td>0.0</td>\n",
       "      <td>0.0</td>\n",
       "      <td>0.0</td>\n",
       "      <td>...</td>\n",
       "      <td>0.0</td>\n",
       "      <td>0.0</td>\n",
       "      <td>0.0</td>\n",
       "      <td>0.0</td>\n",
       "      <td>0.0</td>\n",
       "      <td>0.0</td>\n",
       "      <td>0.0</td>\n",
       "      <td>0.0</td>\n",
       "      <td>67333.770000</td>\n",
       "      <td>0</td>\n",
       "    </tr>\n",
       "    <tr>\n",
       "      <th>3</th>\n",
       "      <td>8</td>\n",
       "      <td>2</td>\n",
       "      <td>37</td>\n",
       "      <td>0.0</td>\n",
       "      <td>195.0</td>\n",
       "      <td>195.0</td>\n",
       "      <td>0.0</td>\n",
       "      <td>0.0</td>\n",
       "      <td>0.0</td>\n",
       "      <td>0.0</td>\n",
       "      <td>...</td>\n",
       "      <td>0.0</td>\n",
       "      <td>0.0</td>\n",
       "      <td>0.0</td>\n",
       "      <td>0.0</td>\n",
       "      <td>0.0</td>\n",
       "      <td>0.0</td>\n",
       "      <td>0.0</td>\n",
       "      <td>0.0</td>\n",
       "      <td>64007.970000</td>\n",
       "      <td>0</td>\n",
       "    </tr>\n",
       "    <tr>\n",
       "      <th>4</th>\n",
       "      <td>10</td>\n",
       "      <td>2</td>\n",
       "      <td>39</td>\n",
       "      <td>0.0</td>\n",
       "      <td>0.0</td>\n",
       "      <td>0.0</td>\n",
       "      <td>0.0</td>\n",
       "      <td>0.0</td>\n",
       "      <td>0.0</td>\n",
       "      <td>0.0</td>\n",
       "      <td>...</td>\n",
       "      <td>0.0</td>\n",
       "      <td>0.0</td>\n",
       "      <td>0.0</td>\n",
       "      <td>0.0</td>\n",
       "      <td>0.0</td>\n",
       "      <td>0.0</td>\n",
       "      <td>0.0</td>\n",
       "      <td>0.0</td>\n",
       "      <td>117310.979016</td>\n",
       "      <td>0</td>\n",
       "    </tr>\n",
       "    <tr>\n",
       "      <th>5</th>\n",
       "      <td>13</td>\n",
       "      <td>2</td>\n",
       "      <td>23</td>\n",
       "      <td>0.0</td>\n",
       "      <td>0.0</td>\n",
       "      <td>0.0</td>\n",
       "      <td>0.0</td>\n",
       "      <td>0.0</td>\n",
       "      <td>0.0</td>\n",
       "      <td>0.0</td>\n",
       "      <td>...</td>\n",
       "      <td>0.0</td>\n",
       "      <td>0.0</td>\n",
       "      <td>0.0</td>\n",
       "      <td>0.0</td>\n",
       "      <td>0.0</td>\n",
       "      <td>0.0</td>\n",
       "      <td>0.0</td>\n",
       "      <td>0.0</td>\n",
       "      <td>87975.750000</td>\n",
       "      <td>0</td>\n",
       "    </tr>\n",
       "    <tr>\n",
       "      <th>6</th>\n",
       "      <td>14</td>\n",
       "      <td>2</td>\n",
       "      <td>27</td>\n",
       "      <td>0.0</td>\n",
       "      <td>0.0</td>\n",
       "      <td>0.0</td>\n",
       "      <td>0.0</td>\n",
       "      <td>0.0</td>\n",
       "      <td>0.0</td>\n",
       "      <td>0.0</td>\n",
       "      <td>...</td>\n",
       "      <td>0.0</td>\n",
       "      <td>0.0</td>\n",
       "      <td>0.0</td>\n",
       "      <td>0.0</td>\n",
       "      <td>0.0</td>\n",
       "      <td>0.0</td>\n",
       "      <td>0.0</td>\n",
       "      <td>0.0</td>\n",
       "      <td>94956.660000</td>\n",
       "      <td>0</td>\n",
       "    </tr>\n",
       "    <tr>\n",
       "      <th>7</th>\n",
       "      <td>18</td>\n",
       "      <td>2</td>\n",
       "      <td>26</td>\n",
       "      <td>0.0</td>\n",
       "      <td>0.0</td>\n",
       "      <td>0.0</td>\n",
       "      <td>0.0</td>\n",
       "      <td>0.0</td>\n",
       "      <td>0.0</td>\n",
       "      <td>0.0</td>\n",
       "      <td>...</td>\n",
       "      <td>0.0</td>\n",
       "      <td>0.0</td>\n",
       "      <td>0.0</td>\n",
       "      <td>0.0</td>\n",
       "      <td>0.0</td>\n",
       "      <td>0.0</td>\n",
       "      <td>0.0</td>\n",
       "      <td>0.0</td>\n",
       "      <td>251638.950000</td>\n",
       "      <td>0</td>\n",
       "    </tr>\n",
       "    <tr>\n",
       "      <th>8</th>\n",
       "      <td>20</td>\n",
       "      <td>2</td>\n",
       "      <td>45</td>\n",
       "      <td>0.0</td>\n",
       "      <td>0.0</td>\n",
       "      <td>0.0</td>\n",
       "      <td>0.0</td>\n",
       "      <td>0.0</td>\n",
       "      <td>0.0</td>\n",
       "      <td>0.0</td>\n",
       "      <td>...</td>\n",
       "      <td>0.0</td>\n",
       "      <td>0.0</td>\n",
       "      <td>0.0</td>\n",
       "      <td>0.0</td>\n",
       "      <td>0.0</td>\n",
       "      <td>0.0</td>\n",
       "      <td>0.0</td>\n",
       "      <td>0.0</td>\n",
       "      <td>101962.020000</td>\n",
       "      <td>0</td>\n",
       "    </tr>\n",
       "    <tr>\n",
       "      <th>9</th>\n",
       "      <td>23</td>\n",
       "      <td>2</td>\n",
       "      <td>25</td>\n",
       "      <td>0.0</td>\n",
       "      <td>0.0</td>\n",
       "      <td>0.0</td>\n",
       "      <td>0.0</td>\n",
       "      <td>0.0</td>\n",
       "      <td>0.0</td>\n",
       "      <td>0.0</td>\n",
       "      <td>...</td>\n",
       "      <td>0.0</td>\n",
       "      <td>0.0</td>\n",
       "      <td>0.0</td>\n",
       "      <td>0.0</td>\n",
       "      <td>0.0</td>\n",
       "      <td>0.0</td>\n",
       "      <td>0.0</td>\n",
       "      <td>0.0</td>\n",
       "      <td>356463.060000</td>\n",
       "      <td>0</td>\n",
       "    </tr>\n",
       "  </tbody>\n",
       "</table>\n",
       "<p>10 rows × 371 columns</p>\n",
       "</div>"
      ],
      "text/plain": [
       "   ID  var3  var15  imp_ent_var16_ult1  imp_op_var39_comer_ult1  \\\n",
       "0   1     2     23                 0.0                      0.0   \n",
       "1   3     2     34                 0.0                      0.0   \n",
       "2   4     2     23                 0.0                      0.0   \n",
       "3   8     2     37                 0.0                    195.0   \n",
       "4  10     2     39                 0.0                      0.0   \n",
       "5  13     2     23                 0.0                      0.0   \n",
       "6  14     2     27                 0.0                      0.0   \n",
       "7  18     2     26                 0.0                      0.0   \n",
       "8  20     2     45                 0.0                      0.0   \n",
       "9  23     2     25                 0.0                      0.0   \n",
       "\n",
       "   imp_op_var39_comer_ult3  imp_op_var40_comer_ult1  imp_op_var40_comer_ult3  \\\n",
       "0                      0.0                      0.0                      0.0   \n",
       "1                      0.0                      0.0                      0.0   \n",
       "2                      0.0                      0.0                      0.0   \n",
       "3                    195.0                      0.0                      0.0   \n",
       "4                      0.0                      0.0                      0.0   \n",
       "5                      0.0                      0.0                      0.0   \n",
       "6                      0.0                      0.0                      0.0   \n",
       "7                      0.0                      0.0                      0.0   \n",
       "8                      0.0                      0.0                      0.0   \n",
       "9                      0.0                      0.0                      0.0   \n",
       "\n",
       "   imp_op_var40_efect_ult1  imp_op_var40_efect_ult3   ...    \\\n",
       "0                      0.0                      0.0   ...     \n",
       "1                      0.0                      0.0   ...     \n",
       "2                      0.0                      0.0   ...     \n",
       "3                      0.0                      0.0   ...     \n",
       "4                      0.0                      0.0   ...     \n",
       "5                      0.0                      0.0   ...     \n",
       "6                      0.0                      0.0   ...     \n",
       "7                      0.0                      0.0   ...     \n",
       "8                      0.0                      0.0   ...     \n",
       "9                      0.0                      0.0   ...     \n",
       "\n",
       "   saldo_medio_var33_hace2  saldo_medio_var33_hace3  saldo_medio_var33_ult1  \\\n",
       "0                      0.0                      0.0                     0.0   \n",
       "1                      0.0                      0.0                     0.0   \n",
       "2                      0.0                      0.0                     0.0   \n",
       "3                      0.0                      0.0                     0.0   \n",
       "4                      0.0                      0.0                     0.0   \n",
       "5                      0.0                      0.0                     0.0   \n",
       "6                      0.0                      0.0                     0.0   \n",
       "7                      0.0                      0.0                     0.0   \n",
       "8                      0.0                      0.0                     0.0   \n",
       "9                      0.0                      0.0                     0.0   \n",
       "\n",
       "   saldo_medio_var33_ult3  saldo_medio_var44_hace2  saldo_medio_var44_hace3  \\\n",
       "0                     0.0                      0.0                      0.0   \n",
       "1                     0.0                      0.0                      0.0   \n",
       "2                     0.0                      0.0                      0.0   \n",
       "3                     0.0                      0.0                      0.0   \n",
       "4                     0.0                      0.0                      0.0   \n",
       "5                     0.0                      0.0                      0.0   \n",
       "6                     0.0                      0.0                      0.0   \n",
       "7                     0.0                      0.0                      0.0   \n",
       "8                     0.0                      0.0                      0.0   \n",
       "9                     0.0                      0.0                      0.0   \n",
       "\n",
       "   saldo_medio_var44_ult1  saldo_medio_var44_ult3          var38  TARGET  \n",
       "0                     0.0                     0.0   39205.170000       0  \n",
       "1                     0.0                     0.0   49278.030000       0  \n",
       "2                     0.0                     0.0   67333.770000       0  \n",
       "3                     0.0                     0.0   64007.970000       0  \n",
       "4                     0.0                     0.0  117310.979016       0  \n",
       "5                     0.0                     0.0   87975.750000       0  \n",
       "6                     0.0                     0.0   94956.660000       0  \n",
       "7                     0.0                     0.0  251638.950000       0  \n",
       "8                     0.0                     0.0  101962.020000       0  \n",
       "9                     0.0                     0.0  356463.060000       0  \n",
       "\n",
       "[10 rows x 371 columns]"
      ]
     },
     "execution_count": 5,
     "metadata": {},
     "output_type": "execute_result"
    }
   ],
   "source": [
    "df.head(10)"
   ]
  },
  {
   "cell_type": "markdown",
   "metadata": {
    "collapsed": false
   },
   "source": [
    "<h3><span style=\"color: #3366ff;\">Nettoyage des données</span></h3>"
   ]
  },
  {
   "cell_type": "code",
   "execution_count": 6,
   "metadata": {
    "collapsed": true
   },
   "outputs": [],
   "source": [
    "def Liste_Att():\n",
    "    Liste=[]\n",
    "    for x in df.columns.values:\n",
    "        Liste.append(x)\n",
    "    return Liste"
   ]
  },
  {
   "cell_type": "code",
   "execution_count": 7,
   "metadata": {
    "collapsed": false
   },
   "outputs": [
    {
     "name": "stdout",
     "output_type": "stream",
     "text": [
      "Le nombre des colonnes inutiles est :  34\n"
     ]
    }
   ],
   "source": [
    "Liste = Liste_Att()\n",
    "#Identifier les colonnes inutiles (dont l'écart type est null)\n",
    "\n",
    "Bruit=[]\n",
    "for i in xrange(len(Liste)):\n",
    "    #pour chaque colonne \"df[x]\"\n",
    "    if np.std(df[Liste[i]]) == 0.0:\n",
    "        #on recupère la liste des noms des colonnes \"df.columns.values\" et on la parcours\n",
    "        Bruit.append(Liste[i])\n",
    "print 'Le nombre des colonnes inutiles est : ',len(Bruit)\n",
    "\n",
    "#Les colonnes dont std = 0 , on va donc les supprimer parcequ'il est \n",
    "#n'apportera pas grand chose pour l'apprentissage (c'est que du bruit)\n",
    "\n",
    "for i in xrange(len(Bruit)):\n",
    "    df.drop(Bruit[i], axis=1, inplace=True)\n",
    "\n",
    "#Colonne ID est non utile pour faire l'apprentissage, donc on le supprime\n",
    "df.drop('ID', axis=1, inplace=True)\n",
    "    \n",
    "Liste = Liste_Att()"
   ]
  },
  {
   "cell_type": "code",
   "execution_count": 8,
   "metadata": {
    "collapsed": false
   },
   "outputs": [
    {
     "name": "stdout",
     "output_type": "stream",
     "text": [
      "Le nombre des colunnes identiques est :  29\n"
     ]
    }
   ],
   "source": [
    "#Identifier les colonnes dont les valeurs sont identiques\n",
    "Liste = Liste_Att()\n",
    "\n",
    "identical = []\n",
    "dupliquer = []\n",
    "for i in xrange(len(Liste)):\n",
    "    temp = []\n",
    "    if i not in identical:\n",
    "        a = np.array(df[Liste[i]])\n",
    "        for j in xrange(len(Liste)):\n",
    "            if  i!=j:\n",
    "                b = np.array(df[Liste[j]])\n",
    "                if np.array_equal(a,b):\n",
    "                    temp.append(j)\n",
    "                    identical.append(j)\n",
    "    dupliquer.append(temp)\n",
    "    \n",
    "print 'Le nombre des colunnes identiques est : ',len(identical)\n",
    "\n",
    "#Delete les colonnes dont les valeurs sont identiques\n",
    "for i in xrange(len(identical)):\n",
    "    df.drop([Liste[identical[i]]], axis=1, inplace=True)\n",
    "\n",
    "#Actualiser la liste des colonnes\n",
    "Liste = Liste_Att()"
   ]
  },
  {
   "cell_type": "code",
   "execution_count": 9,
   "metadata": {
    "collapsed": true
   },
   "outputs": [],
   "source": [
    "def resemblance(column1 , column2):\n",
    "    a = np.array(df[column1])\n",
    "    b = np.array(df[column2])\n",
    "    return ((a==b).sum() * 1.0)/len(a)"
   ]
  },
  {
   "cell_type": "code",
   "execution_count": 10,
   "metadata": {
    "collapsed": false
   },
   "outputs": [
    {
     "name": "stdout",
     "output_type": "stream",
     "text": [
      "Nombre des colonnes qui se ressemblent :  202\n",
      "..... droped\n"
     ]
    }
   ],
   "source": [
    "#Actualiser la liste des colonnes\n",
    "Liste = Liste_Att()\n",
    "Liste=Liste[:-1]\n",
    "seuil=0.99\n",
    "\n",
    "resemble=[]\n",
    "jump = []\n",
    "for i in xrange(len(Liste)):\n",
    "    if i not in jump:\n",
    "        for j in xrange(len(Liste)):\n",
    "            if i!=j and resemblance(Liste[i], Liste[j]) >= seuil:\n",
    "                if j not in jump:\n",
    "                    #resemble.append(Liste[j])\n",
    "                    jump.append(j)\n",
    "    else:\n",
    "        tempo=[]\n",
    "        for j in xrange(len(Liste)):\n",
    "            if i!=j and resemblance(Liste[i], Liste[j]) >= seuil:\n",
    "                if j not in jump:\n",
    "                    tempo.append(j)\n",
    "        if len(tempo) >= 2:\n",
    "            #resemble.extend(tempo[:-1])\n",
    "            jump.extend(tempo[:-1])\n",
    "print \"Nombre des colonnes qui se ressemblent : \", len(jump)\n",
    "\n",
    "def double(jump):\n",
    "    proc = []\n",
    "    doublons = []\n",
    "    for r in jump:\n",
    "         if r not in proc:\n",
    "             proc.append(r)\n",
    "         else:\n",
    "             doublons.append(r)\n",
    "    return doublons\n",
    "\n",
    "#Delete les colonnes dont les valeurs se ressemblent\n",
    "if len(double(jump))==0:\n",
    "    for i in xrange(len(jump)):\n",
    "        df.drop([Liste[jump[i]]], axis=1, inplace=True)\n",
    "        resemble.append(Liste[jump[i]])\n",
    "    print \"..... droped\"\n",
    "else:\n",
    "    print \"ERROR...\"\n",
    "\n",
    "#Actualiser la liste des colonnes\n",
    "Liste = Liste_Att()"
   ]
  },
  {
   "cell_type": "code",
   "execution_count": 11,
   "metadata": {
    "collapsed": false
   },
   "outputs": [
    {
     "name": "stdout",
     "output_type": "stream",
     "text": [
      " Le nombre des variables restante est:  105\n"
     ]
    }
   ],
   "source": [
    "print \" Le nombre des variables restante est: \",len(Liste)"
   ]
  },
  {
   "cell_type": "code",
   "execution_count": 12,
   "metadata": {
    "collapsed": false
   },
   "outputs": [
    {
     "data": {
      "text/html": [
       "<div>\n",
       "<table border=\"1\" class=\"dataframe\">\n",
       "  <thead>\n",
       "    <tr style=\"text-align: right;\">\n",
       "      <th></th>\n",
       "      <th>attribute pair</th>\n",
       "      <th>correlation</th>\n",
       "    </tr>\n",
       "  </thead>\n",
       "  <tbody>\n",
       "    <tr>\n",
       "      <th>12</th>\n",
       "      <td>(ind_var8_0, num_var8_0)</td>\n",
       "      <td>0.999793</td>\n",
       "    </tr>\n",
       "    <tr>\n",
       "      <th>3</th>\n",
       "      <td>(ind_var1_0, num_var1_0)</td>\n",
       "      <td>0.998849</td>\n",
       "    </tr>\n",
       "    <tr>\n",
       "      <th>10</th>\n",
       "      <td>(num_med_var45_ult3, num_var45_ult3)</td>\n",
       "      <td>0.997806</td>\n",
       "    </tr>\n",
       "    <tr>\n",
       "      <th>4</th>\n",
       "      <td>(ind_var24_0, num_var24_0)</td>\n",
       "      <td>0.997448</td>\n",
       "    </tr>\n",
       "    <tr>\n",
       "      <th>7</th>\n",
       "      <td>(ind_var5, num_var5)</td>\n",
       "      <td>0.993709</td>\n",
       "    </tr>\n",
       "    <tr>\n",
       "      <th>5</th>\n",
       "      <td>(saldo_medio_var12_ult1, saldo_var12)</td>\n",
       "      <td>0.986397</td>\n",
       "    </tr>\n",
       "    <tr>\n",
       "      <th>15</th>\n",
       "      <td>(saldo_medio_var12_ult1, saldo_medio_var12_ult3)</td>\n",
       "      <td>0.985940</td>\n",
       "    </tr>\n",
       "    <tr>\n",
       "      <th>6</th>\n",
       "      <td>(num_var35, num_var4)</td>\n",
       "      <td>0.983125</td>\n",
       "    </tr>\n",
       "    <tr>\n",
       "      <th>0</th>\n",
       "      <td>(saldo_medio_var13_corto_ult3, saldo_var13_corto)</td>\n",
       "      <td>0.980455</td>\n",
       "    </tr>\n",
       "    <tr>\n",
       "      <th>9</th>\n",
       "      <td>(saldo_var12, saldo_var42)</td>\n",
       "      <td>0.978415</td>\n",
       "    </tr>\n",
       "    <tr>\n",
       "      <th>13</th>\n",
       "      <td>(ind_var13_corto, num_var13_corto_0)</td>\n",
       "      <td>0.976475</td>\n",
       "    </tr>\n",
       "    <tr>\n",
       "      <th>14</th>\n",
       "      <td>(saldo_medio_var12_ult3, saldo_var12)</td>\n",
       "      <td>0.973450</td>\n",
       "    </tr>\n",
       "    <tr>\n",
       "      <th>11</th>\n",
       "      <td>(saldo_medio_var12_ult1, saldo_var42)</td>\n",
       "      <td>0.965058</td>\n",
       "    </tr>\n",
       "    <tr>\n",
       "      <th>2</th>\n",
       "      <td>(ind_var13_corto, num_meses_var13_corto_ult3)</td>\n",
       "      <td>0.956652</td>\n",
       "    </tr>\n",
       "    <tr>\n",
       "      <th>1</th>\n",
       "      <td>(num_meses_var13_corto_ult3, num_var13_corto_0)</td>\n",
       "      <td>0.955846</td>\n",
       "    </tr>\n",
       "    <tr>\n",
       "      <th>8</th>\n",
       "      <td>(saldo_medio_var12_ult3, saldo_var42)</td>\n",
       "      <td>0.952447</td>\n",
       "    </tr>\n",
       "    <tr>\n",
       "      <th>16</th>\n",
       "      <td>(num_var39_0, num_var41_0)</td>\n",
       "      <td>0.950177</td>\n",
       "    </tr>\n",
       "  </tbody>\n",
       "</table>\n",
       "</div>"
      ],
      "text/plain": [
       "                                       attribute pair  correlation\n",
       "12                           (ind_var8_0, num_var8_0)     0.999793\n",
       "3                            (ind_var1_0, num_var1_0)     0.998849\n",
       "10               (num_med_var45_ult3, num_var45_ult3)     0.997806\n",
       "4                          (ind_var24_0, num_var24_0)     0.997448\n",
       "7                                (ind_var5, num_var5)     0.993709\n",
       "5               (saldo_medio_var12_ult1, saldo_var12)     0.986397\n",
       "15   (saldo_medio_var12_ult1, saldo_medio_var12_ult3)     0.985940\n",
       "6                               (num_var35, num_var4)     0.983125\n",
       "0   (saldo_medio_var13_corto_ult3, saldo_var13_corto)     0.980455\n",
       "9                          (saldo_var12, saldo_var42)     0.978415\n",
       "13               (ind_var13_corto, num_var13_corto_0)     0.976475\n",
       "14              (saldo_medio_var12_ult3, saldo_var12)     0.973450\n",
       "11              (saldo_medio_var12_ult1, saldo_var42)     0.965058\n",
       "2       (ind_var13_corto, num_meses_var13_corto_ult3)     0.956652\n",
       "1     (num_meses_var13_corto_ult3, num_var13_corto_0)     0.955846\n",
       "8               (saldo_medio_var12_ult3, saldo_var42)     0.952447\n",
       "16                         (num_var39_0, num_var41_0)     0.950177"
      ]
     },
     "execution_count": 12,
     "metadata": {},
     "output_type": "execute_result"
    },
    {
     "data": {
      "image/png": "[encoded data removed]",
      "text/plain": [
       "<matplotlib.figure.Figure at 0x116437ad0>"
      ]
     },
     "metadata": {},
     "output_type": "display_data"
    }
   ],
   "source": [
    "import seaborn as sns\n",
    "cor_mat = df.iloc[:,:-1].corr()\n",
    "\n",
    "f, ax = plt.subplots(figsize=(15, 12))\n",
    "# Draw the heatmap with the mask and correct aspect ratio\n",
    "sns.heatmap(cor_mat,linewidths=.5, ax=ax);\n",
    "\n",
    "# only important correlations and not auto-correlations\n",
    "threshold = 0.95\n",
    "important_corrs = (cor_mat[abs(cor_mat) > threshold][cor_mat != 1.0]) \\\n",
    "    .unstack().dropna().to_dict()\n",
    "unique_important_corrs = pd.DataFrame(\n",
    "    list(set([(tuple(sorted(key)), important_corrs[key]) \\\n",
    "    for key in important_corrs])), columns=['attribute pair', 'correlation'])\n",
    "# sorted by absolute value\n",
    "unique_important_corrs = unique_important_corrs.ix[\n",
    "    abs(unique_important_corrs['correlation']).argsort()[::-1]]\n",
    "unique_important_corrs"
   ]
  },
  {
   "cell_type": "code",
   "execution_count": null,
   "metadata": {
    "collapsed": false
   },
   "outputs": [],
   "source": []
  },
  {
   "cell_type": "code",
   "execution_count": 13,
   "metadata": {
    "collapsed": false
   },
   "outputs": [
    {
     "name": "stdout",
     "output_type": "stream",
     "text": [
      "var3 -999999\n",
      "var3 -999999\n",
      "var3 -999999\n",
      "var3 -999999\n",
      "var3 -999999\n",
      "var3 -999999\n",
      "var3 -999999\n",
      "var3 -999999\n",
      "var3 -999999\n",
      "var3 -999999\n",
      "var3 -999999\n",
      "var3 -999999\n",
      "var3 -999999\n",
      "var3 -999999\n",
      "var3 -999999\n",
      "var3 -999999\n",
      "var3 -999999\n",
      "var3 -999999\n",
      "var3 -999999\n",
      "var3 -999999\n",
      "var3 -999999\n",
      "var3 -999999\n",
      "var3 -999999\n",
      "var3 -999999\n",
      "var3 -999999\n",
      "var3 -999999\n",
      "var3 -999999\n",
      "var3 -999999\n",
      "var3 -999999\n",
      "var3 -999999\n",
      "var3 -999999\n",
      "var3 -999999\n",
      "var3 -999999\n",
      "var3 -999999\n",
      "var3 -999999\n",
      "var3 -999999\n",
      "var3 -999999\n",
      "var3 -999999\n",
      "var3 -999999\n",
      "var3 -999999\n",
      "var3 -999999\n",
      "var3 -999999\n",
      "var3 -999999\n",
      "var3 -999999\n",
      "var3 -999999\n",
      "var3 -999999\n",
      "var3 -999999\n",
      "var3 -999999\n",
      "var3 -999999\n",
      "var3 -999999\n",
      "var3 -999999\n",
      "var3 -999999\n",
      "var3 -999999\n",
      "var3 -999999\n",
      "var3 -999999\n",
      "var3 -999999\n",
      "var3 -999999\n",
      "var3 -999999\n",
      "var3 -999999\n",
      "var3 -999999\n",
      "var3 -999999\n",
      "var3 -999999\n",
      "var3 -999999\n",
      "var3 -999999\n",
      "var3 -999999\n",
      "var3 -999999\n",
      "var3 -999999\n",
      "var3 -999999\n",
      "var3 -999999\n",
      "var3 -999999\n",
      "var3 -999999\n",
      "var3 -999999\n",
      "var3 -999999\n",
      "var3 -999999\n",
      "var3 -999999\n",
      "var3 -999999\n",
      "var3 -999999\n",
      "var3 -999999\n",
      "var3 -999999\n",
      "var3 -999999\n",
      "var3 -999999\n",
      "var3 -999999\n",
      "var3 -999999\n",
      "var3 -999999\n",
      "var3 -999999\n",
      "var3 -999999\n",
      "var3 -999999\n",
      "var3 -999999\n",
      "var3 -999999\n",
      "var3 -999999\n",
      "var3 -999999\n",
      "var3 -999999\n",
      "var3 -999999\n",
      "var3 -999999\n",
      "var3 -999999\n",
      "var3 -999999\n",
      "var3 -999999\n",
      "var3 -999999\n",
      "var3 -999999\n",
      "var3 -999999\n",
      "var3 -999999\n",
      "var3 -999999\n",
      "var3 -999999\n",
      "var3 -999999\n",
      "var3 -999999\n",
      "var3 -999999\n",
      "var3 -999999\n",
      "var3 -999999\n",
      "var3 -999999\n",
      "var3 -999999\n",
      "var3 -999999\n",
      "var3 -999999\n",
      "var3 -999999\n",
      "var3 -999999\n",
      "var3 -999999\n",
      "var3 -999999\n"
     ]
    }
   ],
   "source": [
    "import re\n",
    "for x in df.columns.values:\n",
    "    for m in xrange(len(df)):\n",
    "        r=df[x][m]\n",
    "        if re.search(\"^-9{3,14}$\",str(r)):\n",
    "            print x,r"
   ]
  },
  {
   "cell_type": "code",
   "execution_count": 14,
   "metadata": {
    "collapsed": false
   },
   "outputs": [
    {
     "name": "stdout",
     "output_type": "stream",
     "text": [
      "var3 116\n",
      "saldo_var5 108\n",
      "saldo_var8 19\n",
      "saldo_var30 120\n",
      "saldo_var42 122\n",
      "delta_imp_aport_var13_1y3 1690\n",
      "saldo_medio_var5_hace2 26\n",
      "saldo_medio_var5_hace3 4\n",
      "saldo_medio_var5_ult1 51\n",
      "saldo_medio_var5_ult3 24\n",
      "saldo_medio_var8_hace2 2\n",
      "saldo_medio_var8_ult1 12\n",
      "saldo_medio_var8_ult3 7\n"
     ]
    }
   ],
   "source": [
    "for x in df.columns.values:\n",
    "    if df.loc[df[x]<0].shape[0] != 0:\n",
    "        print x, df.loc[df[x]<0].shape[0]"
   ]
  },
  {
   "cell_type": "code",
   "execution_count": 15,
   "metadata": {
    "collapsed": false
   },
   "outputs": [
    {
     "data": {
      "text/plain": [
       " 2         74165\n",
       " 8           138\n",
       "-999999      116\n",
       " 9           110\n",
       " 3           108\n",
       " 1           105\n",
       " 13           98\n",
       " 7            97\n",
       " 4            86\n",
       " 12           85\n",
       "Name: var3, dtype: int64"
      ]
     },
     "execution_count": 15,
     "metadata": {},
     "output_type": "execute_result"
    }
   ],
   "source": [
    "# 10 premières valeurs les plus communes\n",
    "df.var3.value_counts()[:10]"
   ]
  },
  {
   "cell_type": "code",
   "execution_count": 16,
   "metadata": {
    "collapsed": false
   },
   "outputs": [
    {
     "name": "stdout",
     "output_type": "stream",
     "text": [
      "(116, 105)\n",
      "(0, 105)\n"
     ]
    }
   ],
   "source": [
    "# 116 valeurs dans la colonne var3 sont-999999\n",
    "# on soupçonne que var3 est la nationalité du client\n",
    "# - 999999 signifierait que la nationalité du client est inconnue\n",
    "\n",
    "print df.loc[df.var3==-999999].shape\n",
    "\n",
    "# Remplacez -999999 dans la colonne var3 avec la valeur la plus commune 2\n",
    "\n",
    "df = df.replace(-999999,2)\n",
    "print df.loc[df.var3==-999999].shape"
   ]
  },
  {
   "cell_type": "code",
   "execution_count": 17,
   "metadata": {
    "collapsed": false
   },
   "outputs": [
    {
     "name": "stdout",
     "output_type": "stream",
     "text": [
      "['var3', 'var15', 'imp_ent_var16_ult1', 'imp_op_var39_comer_ult1', 'imp_op_var39_comer_ult3', 'imp_op_var41_efect_ult1', 'imp_op_var41_efect_ult3', 'imp_op_var41_ult1', 'ind_var1_0', 'ind_var5_0', 'ind_var5', 'ind_var8_0', 'ind_var12_0', 'ind_var13_corto', 'ind_var14_0', 'ind_var24_0', 'ind_var25_cte', 'ind_var30_0', 'ind_var30', 'ind_var37_cte', 'ind_var39_0', 'num_var1_0', 'num_var4', 'num_var5_0', 'num_var5', 'num_var8_0', 'num_var12_0', 'num_var13_0', 'num_var13_corto_0', 'num_var14_0', 'num_var24_0', 'num_var26_0', 'num_op_var41_hace2', 'num_op_var41_hace3', 'num_op_var41_ult1', 'num_op_var41_ult3', 'num_var30_0', 'num_var30', 'num_var35', 'num_var37_med_ult2', 'num_var37_0', 'num_var39_0', 'num_var41_0', 'num_var42_0', 'num_var42', 'saldo_var5', 'saldo_var8', 'saldo_var12', 'saldo_var13_corto', 'saldo_var13_largo', 'saldo_var13', 'saldo_var26', 'saldo_var30', 'saldo_var37', 'saldo_var42', 'var36', 'delta_imp_aport_var13_1y3', 'imp_aport_var13_hace3', 'imp_var43_emit_ult1', 'imp_trans_var37_ult1', 'ind_var10_ult1', 'ind_var10cte_ult1', 'ind_var43_emit_ult1', 'ind_var43_recib_ult1', 'var21', 'num_aport_var13_hace3', 'num_ent_var16_ult1', 'num_var22_hace2', 'num_var22_hace3', 'num_var22_ult1', 'num_var22_ult3', 'num_med_var22_ult3', 'num_med_var45_ult3', 'num_meses_var5_ult3', 'num_meses_var8_ult3', 'num_meses_var12_ult3', 'num_meses_var13_corto_ult3', 'num_meses_var39_vig_ult3', 'num_op_var39_comer_ult1', 'num_op_var39_comer_ult3', 'num_op_var41_efect_ult1', 'num_op_var41_efect_ult3', 'num_var43_emit_ult1', 'num_var43_recib_ult1', 'num_trasp_var11_ult1', 'num_var45_hace2', 'num_var45_hace3', 'num_var45_ult1', 'num_var45_ult3', 'saldo_medio_var5_hace2', 'saldo_medio_var5_hace3', 'saldo_medio_var5_ult1', 'saldo_medio_var5_ult3', 'saldo_medio_var8_hace2', 'saldo_medio_var8_ult1', 'saldo_medio_var8_ult3', 'saldo_medio_var12_hace2', 'saldo_medio_var12_hace3', 'saldo_medio_var12_ult1', 'saldo_medio_var12_ult3', 'saldo_medio_var13_corto_hace2', 'saldo_medio_var13_corto_hace3', 'saldo_medio_var13_corto_ult3', 'var38', 'TARGET']\n"
     ]
    }
   ],
   "source": [
    "print Liste"
   ]
  },
  {
   "cell_type": "code",
   "execution_count": 18,
   "metadata": {
    "collapsed": true
   },
   "outputs": [],
   "source": [
    "df.to_csv(\"DataClean.csv\")"
   ]
  },
  {
   "cell_type": "code",
   "execution_count": 19,
   "metadata": {
    "collapsed": true
   },
   "outputs": [],
   "source": [
    "#Y, X, X_train, X_test, Y_train, Y_test = \"\"\n",
    "\n",
    "def splitData(df):\n",
    "    Y = df.TARGET\n",
    "    X = df.drop(['TARGET'], axis=1)\n",
    "\n",
    "    # diviser X et Y en training and testing\n",
    "    from sklearn.cross_validation import train_test_split\n",
    "    return  train_test_split(X, Y, test_size=0.2,random_state=1)"
   ]
  },
  {
   "cell_type": "code",
   "execution_count": 20,
   "metadata": {
    "collapsed": true
   },
   "outputs": [],
   "source": [
    "X_train, X_test, Y_train, Y_test = splitData(df)"
   ]
  },
  {
   "cell_type": "code",
   "execution_count": 27,
   "metadata": {
    "collapsed": false
   },
   "outputs": [
    {
     "name": "stdout",
     "output_type": "stream",
     "text": [
      "train \n",
      "\n",
      "   TARGET  Percentage\n",
      "0   58411   96.045449\n",
      "1    2405    3.954551\n",
      "test \n",
      "\n",
      "   TARGET  Percentage\n",
      "0   14601   96.033938\n",
      "1     603    3.966062\n"
     ]
    }
   ],
   "source": [
    "df1 = pd.DataFrame(Y_train.value_counts())\n",
    "df1['Percentage'] = 100*df1['TARGET']/Y_train.shape[0]\n",
    "print 'train \\n\\n',df1\n",
    "\n",
    "df2 = pd.DataFrame(Y_test.value_counts())\n",
    "df2['Percentage'] = 100*df2['TARGET']/Y_test.shape[0]\n",
    "print 'test \\n\\n',df2"
   ]
  },
  {
   "cell_type": "code",
   "execution_count": 28,
   "metadata": {
    "collapsed": true
   },
   "outputs": [],
   "source": [
    "X=X_train\n",
    "Y=Y_train\n",
    "\n",
    "XValid=X_test\n",
    "YValid=Y_test"
   ]
  },
  {
   "cell_type": "markdown",
   "metadata": {},
   "source": [
    "<h3><span style=\"color: #3366ff;\">Les arbres de décision</span></h3>"
   ]
  },
  {
   "cell_type": "code",
   "execution_count": 29,
   "metadata": {
    "collapsed": false
   },
   "outputs": [],
   "source": [
    "#CHOIX DU MODELE A UTILISER\n",
    "#Les arbres de décision\n",
    "\n",
    "\n",
    "clf = DecisionTreeClassifier(random_state=1)\n",
    "params = {'max_depth':[1,3,4,5,6,7,9],\n",
    "          'min_samples_leaf' : [1,3,4,5,6,7,9]} #pour le gridSearch    \n",
    "metric = 'roc_auc'\n"
   ]
  },
  {
   "cell_type": "code",
   "execution_count": 30,
   "metadata": {
    "collapsed": false
   },
   "outputs": [
    {
     "name": "stdout",
     "output_type": "stream",
     "text": [
      "Resultat d'apprentissage :  0.813552684817 {'max_depth': 6, 'min_samples_leaf': 4}\n",
      "Resultat de validation :  0.81579830001\n"
     ]
    }
   ],
   "source": [
    "#fonction d'apprentissage avec cross validation et gridsearch sur le premier dataset\n",
    "def performance(X,Y):\n",
    "    kf = StratifiedKFold(Y, n_folds=3, random_state=1)    \n",
    "    gs = GridSearchCV(clf, params, scoring=metric, cv=kf)\n",
    "    gs.fit(X,Y)\n",
    "    return gs\n",
    "\n",
    "#fonction de prédiction sur le dataset de validation\n",
    "def validation(clf1, Xv, Yv):\n",
    "    preds = clf1.predict_proba(Xv)[:,1]\n",
    "    return roc_auc_score(Yv, preds)\n",
    "\n",
    "gs = performance(X,Y)\n",
    "print \"Resultat d'apprentissage : \",gs.best_score_, gs.best_params_\n",
    "\n",
    "print \"Resultat de validation : \",validation(gs.best_estimator_, XValid, YValid)"
   ]
  },
  {
   "cell_type": "markdown",
   "metadata": {
    "collapsed": true
   },
   "source": [
    "<h5 style=\"color:blue;\">Avec 105 Variables </h5>\n",
    "<hr/>\n",
    "<b>n_folds=3</b><br/>\n",
    "Resultat d'apprentissage :  0.816272752522 {'max_depth': 6, 'min_samples_leaf': 9}<br/>\n",
    "Resultat de validation :  <span style=\"color:red;\">0.81747940419</span>"
   ]
  },
  {
   "cell_type": "code",
   "execution_count": 17,
   "metadata": {
    "collapsed": false
   },
   "outputs": [],
   "source": [
    "#Arbres de décision Modèle :\n",
    "SampleTree_GS=gs"
   ]
  },
  {
   "cell_type": "code",
   "execution_count": 25,
   "metadata": {
    "collapsed": false
   },
   "outputs": [
    {
     "name": "stdout",
     "output_type": "stream",
     "text": [
      "Matrice de Confusion\n",
      "       0  1\n",
      "0  14537  7\n",
      "1    658  2 \n",
      "\n",
      "\n",
      "Taux de prédiction (accuracy):  0.956261510129\n",
      "Sensibilité :  0.0030303030303\n",
      "Precision 0.222222222222\n",
      "Spécificité  0.99951870187 \n",
      "\n",
      "\n",
      "roc_auc_score =  0.81747940419\n"
     ]
    },
    {
     "data": {
      "image/png": "[encoded data removed]",
      "text/plain": [
       "<matplotlib.figure.Figure at 0x118017310>"
      ]
     },
     "metadata": {},
     "output_type": "display_data"
    }
   ],
   "source": [
    "# On prédit pour les données de test\n",
    "y_pred_class = SampleTree_GS.predict(XValid)\n",
    "\n",
    "# on stocke la matrice de confusion et on récupère les TP, TN, FP, FN\n",
    "confusion = metrics.confusion_matrix(YValid, y_pred_class)\n",
    "tp = confusion[1, 1]\n",
    "tn = confusion[0, 0]\n",
    "fp = confusion[0, 1]\n",
    "fn = confusion[1, 0]\n",
    "\n",
    "print \"Matrice de Confusion\"\n",
    "matrix = pd.DataFrame([confusion[0][0],confusion[1][0]])\n",
    "matrix['1'] = [confusion[0][1],confusion[1][1]]\n",
    "print matrix,\"\\n\\n\"\n",
    "\n",
    "print \"Taux de prédiction (accuracy): \",(tp + tn) / float(tp + tn + fp + fn)\n",
    "print \"Sensibilité : \",tp / float(tp + fn)\n",
    "print\"Precision\", tp / float(tp + fp)\n",
    "print\"Spécificité \", tn / float(tn + fp),\"\\n\\n\"\n",
    "\n",
    "# on stocke les degrés d'appartenance pour la classe 1\n",
    "y_pred_prob = SampleTree_GS.predict_proba(XValid)[:, 1]\n",
    "\n",
    "# histogramme des probabilités prédites\n",
    "plt.hist(y_pred_prob, bins=8)\n",
    "plt.xlim(0, 1)\n",
    "plt.title('Histogramme des probabilites predites')\n",
    "plt.xlabel('Probabilite Predite de ne pas etre satisfait' )\n",
    "plt.ylabel('Frequence')\n",
    "\n",
    "print \"roc_auc_score = \", metrics.roc_auc_score(YValid, y_pred_prob)"
   ]
  },
  {
   "cell_type": "markdown",
   "metadata": {},
   "source": [
    "Il faut **Diminuer le seuil** de prédiction du clients mécontents pour **augmenter la sensitivity** du classifieur !!!"
   ]
  },
  {
   "cell_type": "code",
   "execution_count": null,
   "metadata": {
    "collapsed": false
   },
   "outputs": [],
   "source": []
  },
  {
   "cell_type": "markdown",
   "metadata": {},
   "source": [
    "<h4><span style=\"color: #c36b0f;\">Selection des variables : Variance</span></h4>"
   ]
  },
  {
   "cell_type": "code",
   "execution_count": null,
   "metadata": {
    "collapsed": true
   },
   "outputs": [],
   "source": [
    "#Approche filtre\n",
    "def variance_selection(X,n_features):\n",
    "    \n",
    "    variance = [np.var(X[i]) for i in X.columns]\n",
    "    variance = sorted( zip(variance,X.columns) ,reverse=True)[:n_features]   \n",
    "        \n",
    "    return [x[1] for x in variance]\n",
    "\n",
    "for n_features in [5,10,17,20,45]:\n",
    "    print n_features\n",
    "    varFeatures = variance_selection(X,n_features)\n",
    "    #print 'Selected features : ', varFeatures\n",
    "    gs = performance(X[varFeatures], Y)\n",
    "    print gs.best_score_, gs.best_params_\n",
    "    \n",
    "    print '***************************\\n'"
   ]
  },
  {
   "cell_type": "code",
   "execution_count": 26,
   "metadata": {
    "collapsed": false
   },
   "outputs": [],
   "source": [
    "#nombre d'attributs à utiliser\n",
    "n_features=105"
   ]
  },
  {
   "cell_type": "markdown",
   "metadata": {},
   "source": [
    "<br/><br/><br/><br/><h4><span style=\"color: #c36b0f;\">Selection des variables : Correlation</span></h4>"
   ]
  },
  {
   "cell_type": "code",
   "execution_count": 360,
   "metadata": {
    "collapsed": false
   },
   "outputs": [
    {
     "name": "stdout",
     "output_type": "stream",
     "text": [
      "Complexité :  67\n",
      "Score Train :  0.817976317068 {'max_depth': 6, 'min_samples_leaf': 9}\n",
      "Liste des variables selectionées : \n",
      "['ind_var30' 'num_meses_var5_ult3' 'num_var30' 'num_var42' 'ind_var5'\n",
      " 'num_var5' 'var36' 'var15' 'num_var4' 'num_var35' 'ind_var8_0'\n",
      " 'num_var8_0' 'num_var30_0' 'ind_var12_0' 'num_var13_0' 'num_var12_0'\n",
      " 'ind_var39_0' 'saldo_var30' 'ind_var13_corto' 'num_meses_var13_corto_ult3'\n",
      " 'num_var13_corto_0' 'imp_op_var41_efect_ult1' 'num_var41_0' 'ind_var5_0'\n",
      " 'num_meses_var12_ult3' 'imp_op_var41_ult1' 'num_var39_0' 'saldo_var13'\n",
      " 'ind_var24_0' 'num_var24_0' 'num_var42_0' 'num_var5_0' 'saldo_var13_corto'\n",
      " 'saldo_medio_var13_corto_ult3' 'num_aport_var13_hace3'\n",
      " 'num_meses_var8_ult3' 'imp_op_var41_efect_ult3' 'saldo_var42'\n",
      " 'saldo_medio_var13_corto_hace2' 'num_op_var41_efect_ult1' 'num_var22_ult1'\n",
      " 'num_op_var41_efect_ult3' 'ind_var25_cte' 'ind_var14_0' 'saldo_var12'\n",
      " 'num_var14_0' 'ind_var43_recib_ult1' 'imp_aport_var13_hace3'\n",
      " 'saldo_medio_var12_ult1' 'num_var26_0' 'saldo_medio_var12_ult3' 'var38'\n",
      " 'saldo_medio_var5_hace2' 'saldo_medio_var5_ult3' 'saldo_medio_var12_hace2'\n",
      " 'num_var43_recib_ult1' 'saldo_medio_var5_ult1'\n",
      " 'saldo_medio_var13_corto_hace3' 'saldo_medio_var5_hace3'\n",
      " 'num_meses_var39_vig_ult3' 'saldo_var13_largo' 'saldo_var5'\n",
      " 'num_med_var22_ult3' 'num_op_var41_ult1' 'imp_trans_var37_ult1'\n",
      " 'num_op_var41_ult3' 'imp_op_var39_comer_ult1']\n"
     ]
    }
   ],
   "source": [
    "#par filtre\n",
    "def pearson_selection(X,y,n_features):\n",
    "    \n",
    "    corr = np.abs( X.corrwith(Y))\n",
    "    corr = corr.sort_values(ascending=False)[:n_features]\n",
    "    return corr.index.values\n",
    "\n",
    "tr = te = nb = 0\n",
    "gs=[]\n",
    "pearsonFeatures=[]\n",
    "for nb_features in [x+1 for x in xrange(n_features)]:\n",
    "    \n",
    "    pearsonFeatures.append(pearson_selection(X,Y,nb_features))\n",
    "    #print 'Selected features : ', pearsonFeatures\n",
    "    gs.append(performance(X[pearsonFeatures[-1]], Y))\n",
    "    \n",
    "for i in [x for x in xrange(len(gs))]:\n",
    "    scoreTrain = gs[i].best_score_\n",
    "    \n",
    "    #scoreTest = validation(gs[i].best_estimator_, XValid[pearsonFeatures[i]], YValid)\n",
    "    if scoreTrain > tr : #and scoreTest > te :\n",
    "        tr = scoreTrain\n",
    "        #te = scoreTest\n",
    "        params = gs[i].best_params_\n",
    "        nb=i\n",
    "print \"Complexité : \",nb+1\n",
    "print \"Score Train : \",tr, params\n",
    "#print \"Test : \",te\n",
    "print \"Liste des variables selectionées : \\n\",pearsonFeatures[nb]"
   ]
  },
  {
   "cell_type": "markdown",
   "metadata": {},
   "source": [
    "<h3>Selection des variables : Correlation</h3>\n",
    "\n",
    "<b>Complexité</b> :  67 <br/>\n",
    "<b>Train</b> :  0.817976317068 {'max_depth': 6, 'min_samples_leaf': 9}<br/>\n",
    "<b>Liste des variables selectionées : </b><br/>\n",
    "['ind_var30' 'num_meses_var5_ult3' 'num_var30' 'num_var42' 'ind_var5'\n",
    " 'num_var5' 'var36' 'var15' 'num_var4' 'num_var35' 'ind_var8_0'\n",
    " 'num_var8_0' 'num_var30_0' 'ind_var12_0' 'num_var13_0' 'num_var12_0'\n",
    " 'ind_var39_0' 'saldo_var30' 'ind_var13_corto' 'num_meses_var13_corto_ult3'\n",
    " 'num_var13_corto_0' 'imp_op_var41_efect_ult1' 'num_var41_0' 'ind_var5_0'\n",
    " 'num_meses_var12_ult3' 'imp_op_var41_ult1' 'num_var39_0' 'saldo_var13'\n",
    " 'ind_var24_0' 'num_var24_0' 'num_var42_0' 'num_var5_0' 'saldo_var13_corto'\n",
    " 'saldo_medio_var13_corto_ult3' 'num_aport_var13_hace3'\n",
    " 'num_meses_var8_ult3' 'imp_op_var41_efect_ult3' 'saldo_var42'\n",
    " 'saldo_medio_var13_corto_hace2' 'num_op_var41_efect_ult1' 'num_var22_ult1'\n",
    " 'num_op_var41_efect_ult3' 'ind_var25_cte' 'ind_var14_0' 'saldo_var12'\n",
    " 'num_var14_0' 'ind_var43_recib_ult1' 'imp_aport_var13_hace3'\n",
    " 'saldo_medio_var12_ult1' 'num_var26_0' 'saldo_medio_var12_ult3' 'var38'\n",
    " 'saldo_medio_var5_hace2' 'saldo_medio_var5_ult3' 'saldo_medio_var12_hace2'\n",
    " 'num_var43_recib_ult1' 'saldo_medio_var5_ult1'\n",
    " 'saldo_medio_var13_corto_hace3' 'saldo_medio_var5_hace3'\n",
    " 'num_meses_var39_vig_ult3' 'saldo_var13_largo' 'saldo_var5'\n",
    " 'num_med_var22_ult3' 'num_op_var41_ult1' 'imp_trans_var37_ult1'\n",
    " 'num_op_var41_ult3' 'imp_op_var39_comer_ult1']\n"
   ]
  },
  {
   "cell_type": "code",
   "execution_count": null,
   "metadata": {
    "collapsed": false
   },
   "outputs": [],
   "source": []
  },
  {
   "cell_type": "markdown",
   "metadata": {},
   "source": [
    "<br/><br/><br/><br/><h4><span style=\"color: #c36b0f;\">Selection des variables : Random Forest</span></h4>"
   ]
  },
  {
   "cell_type": "code",
   "execution_count": 33,
   "metadata": {
    "collapsed": false
   },
   "outputs": [
    {
     "name": "stdout",
     "output_type": "stream",
     "text": [
      "CPU times: user 2.68 s, sys: 380 ms, total: 3.06 s\n",
      "Wall time: 2.64 s\n"
     ]
    }
   ],
   "source": [
    "#Approche integree\n",
    "def random_forest_selection(X,Y,n_features):\n",
    "    \n",
    "    params = {'max_depth':[6],\n",
    "              'min_samples_leaf' : [4]}\n",
    "    \n",
    "    clf = RandomForestClassifier(random_state=1, n_jobs=3)\n",
    "    gs = GridSearchCV(clf, params)\n",
    "    gs.fit(X,Y)\n",
    "    bestClf = gs.best_estimator_\n",
    "    rf = bestClf.feature_importances_\n",
    "    \n",
    "    rf=zip(rf,X.columns)\n",
    "    rf=sorted(rf,reverse=True)[:n_features]\n",
    " \n",
    "    return [x[1] for x in rf]\n",
    "\n",
    "%time rfFeatures = random_forest_selection(X,Y,20)\n",
    "\n",
    "\n",
    "##Random_Forest_GS=[]\n",
    "\n",
    "#%time for nb in xrange(len(rfFeatures)):\n",
    "   # Random_Forest_GS.append(performance(X[rfFeatures[:nb+1]], Y))\n"
   ]
  },
  {
   "cell_type": "code",
   "execution_count": 29,
   "metadata": {
    "collapsed": false
   },
   "outputs": [
    {
     "name": "stdout",
     "output_type": "stream",
     "text": [
      "\n",
      "pour   :  1\n",
      "scoreTrain =  0.709427190377      Paramètres =  {'max_depth': 5, 'min_samples_leaf': 1}\n",
      "\n",
      "pour   :  2\n",
      "scoreTrain =  0.78184723184      Paramètres =  {'max_depth': 4, 'min_samples_leaf': 1}\n",
      "\n",
      "pour   :  3\n",
      "scoreTrain =  0.808831956489      Paramètres =  {'max_depth': 5, 'min_samples_leaf': 9}\n",
      "\n",
      "pour   :  4\n",
      "scoreTrain =  0.812980388507      Paramètres =  {'max_depth': 6, 'min_samples_leaf': 1}\n",
      "\n",
      "pour   :  5\n",
      "scoreTrain =  0.814360412165      Paramètres =  {'max_depth': 5, 'min_samples_leaf': 9}\n",
      "\n",
      "pour   :  6\n",
      "scoreTrain =  0.814655077484      Paramètres =  {'max_depth': 5, 'min_samples_leaf': 9}\n",
      "\n",
      "pour   :  7\n",
      "scoreTrain =  0.814978703594      Paramètres =  {'max_depth': 6, 'min_samples_leaf': 4}\n",
      "\n",
      "pour   :  8\n",
      "scoreTrain =  0.814603552267      Paramètres =  {'max_depth': 5, 'min_samples_leaf': 9}\n",
      "\n",
      "pour   :  9\n",
      "scoreTrain =  0.813747575685      Paramètres =  {'max_depth': 5, 'min_samples_leaf': 3}\n",
      "\n",
      "pour   :  10\n",
      "scoreTrain =  0.813747575685      Paramètres =  {'max_depth': 5, 'min_samples_leaf': 3}\n",
      "\n",
      "\n",
      "================================================\n",
      "pour   :  7\n",
      "Selected features :  ['var15', 'ind_var30', 'saldo_var30', 'var38', 'saldo_medio_var5_ult3', 'num_meses_var5_ult3', 'num_var35']\n",
      "scoreTrain =  0.814978703594      Paramètres =  {'max_depth': 6, 'min_samples_leaf': 4}\n",
      "================================================\n"
     ]
    },
    {
     "data": {
      "image/png": "[encoded data removed]",
      "text/plain": [
       "<matplotlib.figure.Figure at 0x117ba07d0>"
      ]
     },
     "metadata": {},
     "output_type": "display_data"
    }
   ],
   "source": [
    "tr = n = nb =0\n",
    "listeScoreVC=[0]\n",
    "\n",
    "for i in xrange(len(Random_Forest_GS)): \n",
    "    n = n + 1\n",
    "    scoreTrain = Random_Forest_GS[i].best_score_\n",
    "    params = Random_Forest_GS[i].best_params_\n",
    "    #Selection manuelle \n",
    "    print '\\npour   : ', n\n",
    "    print \"scoreTrain = \",scoreTrain,\"     Paramètres = \",params\n",
    "    \n",
    "    listeScoreVC.append(1.0 - scoreTrain)\n",
    "    \n",
    "    #Selection automatique \n",
    "    if scoreTrain > tr :\n",
    "        tr = scoreTrain\n",
    "        param = Random_Forest_GS[i].best_params_\n",
    "        nb=n\n",
    "    \n",
    "        \n",
    "plt.plot([x for x in xrange(len(listeScoreVC))], listeScoreVC)\n",
    "plt.title('courbe Scores VC')\n",
    "plt.xlabel('Complexite du modele')\n",
    "plt.ylabel('Taux d\\'erreur de la validation croisee')\n",
    "plt.grid(True)\n",
    "        \n",
    "print \"\\n\\n================================================\"        \n",
    "print 'pour   : ', nb\n",
    "print 'Selected features : ', rfFeatures[:nb]\n",
    "print \"scoreTrain = \",tr,\"     Paramètres = \",param\n",
    "print \"================================================\""
   ]
  },
  {
   "cell_type": "code",
   "execution_count": 39,
   "metadata": {
    "collapsed": false
   },
   "outputs": [
    {
     "data": {
      "text/plain": [
       "['var38',\n",
       " 'ind_var30',\n",
       " 'var15',\n",
       " 'saldo_medio_var5_ult1',\n",
       " 'saldo_var30',\n",
       " 'saldo_medio_var5_ult3',\n",
       " 'num_meses_var5_ult3',\n",
       " 'num_var30',\n",
       " 'num_var35',\n",
       " 'imp_op_var41_efect_ult1',\n",
       " 'var36',\n",
       " 'num_var22_ult3',\n",
       " 'num_var22_ult1',\n",
       " 'imp_op_var41_efect_ult3',\n",
       " 'num_var45_hace3',\n",
       " 'saldo_var5',\n",
       " 'num_var22_hace2',\n",
       " 'imp_op_var41_ult1',\n",
       " 'num_med_var45_ult3',\n",
       " 'num_var4']"
      ]
     },
     "execution_count": 39,
     "metadata": {},
     "output_type": "execute_result"
    }
   ],
   "source": [
    "rfFeatures"
   ]
  },
  {
   "cell_type": "code",
   "execution_count": null,
   "metadata": {
    "collapsed": false
   },
   "outputs": [],
   "source": []
  },
  {
   "cell_type": "markdown",
   "metadata": {},
   "source": [
    "<h4><span style=\"color: #c36b0f;\">Selection des variables : LASSO</span></h4>"
   ]
  },
  {
   "cell_type": "code",
   "execution_count": 47,
   "metadata": {
    "collapsed": false
   },
   "outputs": [
    {
     "name": "stdout",
     "output_type": "stream",
     "text": [
      "Selected features :  ['var15', 'num_var5', 'ind_var8_0', 'ind_var30_0', 'num_var22_ult1', 'num_op_var41_efect_ult3', 'num_meses_var12_ult3', 'num_meses_var39_vig_ult3', 'imp_op_var39_comer_ult1', 'var36', 'imp_op_var41_ult1', 'imp_op_var41_efect_ult1', 'num_ent_var16_ult1', 'ind_var1_0', 'num_var45_ult1', 'num_var22_hace2', 'num_med_var22_ult3', 'imp_var43_emit_ult1', 'num_op_var41_hace2', 'saldo_medio_var12_hace2', 'ind_var10_ult1', 'num_var45_hace3', 'num_var42_0', 'num_var14_0', 'delta_imp_aport_var13_1y3', 'num_var13_corto_0', 'saldo_var37', 'ind_var25_cte', 'saldo_medio_var13_corto_hace2', 'num_var45_ult3', 'saldo_medio_var5_hace3', 'saldo_medio_var8_hace2', 'num_op_var39_comer_ult3', 'saldo_var42', 'saldo_var13_corto', 'saldo_var12', 'saldo_medio_var8_ult3', 'saldo_medio_var13_corto_ult3', 'saldo_medio_var12_ult3', 'saldo_medio_var12_ult1', 'num_var8_0', 'num_var5_0', 'num_var45_hace2', 'num_var43_emit_ult1', 'num_var41_0', 'num_var37_0', 'num_var35', 'num_var30_0', 'num_var30', 'num_var26_0', 'num_var24_0', 'num_var22_ult3', 'num_var1_0', 'num_var12_0', 'num_trasp_var11_ult1', 'num_op_var41_ult3', 'num_op_var41_efect_ult1', 'num_op_var39_comer_ult1', 'num_meses_var13_corto_ult3', 'num_med_var45_ult3']\n",
      "0.812768851201 {'max_depth': 6, 'min_samples_leaf': 9}\n"
     ]
    }
   ],
   "source": [
    "def lasso_selection(X,Y,n_features):\n",
    "    \n",
    "    cols = X.columns\n",
    "    X=StandardScaler().fit_transform(X)\n",
    "  \n",
    "    params = {'alpha':[0.0001, 0.001, 0.01, 0.1, 1, 2, 5]}\n",
    "    \n",
    "    clf = Lasso(random_state=1)\n",
    "    gs = GridSearchCV(clf, params)\n",
    "    gs.fit(X,Y)\n",
    "    ls = gs.best_estimator_.coef_\n",
    "    \n",
    "    ls=zip(ls,cols)\n",
    "    ls=sorted(ls,reverse=True)[:n_features]\n",
    " \n",
    "    return [x[1] for x in ls]\n",
    "\n",
    "lassoFeatures = lasso_selection(X,Y,60)\n",
    "print 'Selected features : ', lassoFeatures\n",
    "gs = performance(X[lassoFeatures], Y)\n",
    "print gs.best_score_, gs.best_params_\n"
   ]
  },
  {
   "cell_type": "markdown",
   "metadata": {},
   "source": [
    "<h4><span style=\"color: #c36b0f;\">Selection des variables : Forward Selection</span></h4>"
   ]
  },
  {
   "cell_type": "code",
   "execution_count": 78,
   "metadata": {
    "collapsed": true
   },
   "outputs": [],
   "source": [
    "#Wrapper\n",
    "def forward_selection(X,Y,n_features):\n",
    "    \n",
    "    fsFeatures = []\n",
    "    startFeatures = list(X.columns.values)\n",
    "    listOfScores=[]; listValidationScores=[]\n",
    "    \n",
    "    while( len(startFeatures) > 0 ) : # len(fsFeatures)<n_features\n",
    "        bestScore = 0; bestFeature = None; bestClf=None\n",
    "        for feature in startFeatures:    \n",
    "            sousEnsemble = fsFeatures+[feature]\n",
    "            gs = performance(X[sousEnsemble],Y)\n",
    "            if gs.best_score_>bestScore:\n",
    "                bestScore = gs.best_score_\n",
    "                bestFeature = feature\n",
    "                bestClf = gs.best_estimator_\n",
    "                \n",
    "        fsFeatures.append(bestFeature)\n",
    "        listOfScores.append(bestScore)\n",
    "        listValidationScores.append( validation(bestClf, XValid[fsFeatures], YValid) )\n",
    "        startFeatures = list( set(startFeatures) - set(fsFeatures) )\n",
    "        \n",
    "    return fsFeatures,listOfScores, listValidationScores"
   ]
  },
  {
   "cell_type": "code",
   "execution_count": 53,
   "metadata": {
    "collapsed": false
   },
   "outputs": [],
   "source": [
    "Features,TrainScores,ValidationScores = forward_selection(X[pearsonFeatures],Y,n_features)"
   ]
  },
  {
   "cell_type": "code",
   "execution_count": null,
   "metadata": {
    "collapsed": true
   },
   "outputs": [],
   "source": [
    "plt.figure(figsize=(20,10))\n",
    "plt.plot(TrainScores,'b')\n",
    "plt.plot(ValidationScores,'r')\n",
    "_=plt.xticks(range(len(Features)), Features)"
   ]
  },
  {
   "cell_type": "code",
   "execution_count": null,
   "metadata": {
    "collapsed": true
   },
   "outputs": [],
   "source": []
  },
  {
   "cell_type": "markdown",
   "metadata": {
    "collapsed": false
   },
   "source": [
    "<h3><span style=\"color: #3366ff;\">Modèle : SVM</span></h3>"
   ]
  },
  {
   "cell_type": "code",
   "execution_count": null,
   "metadata": {
    "collapsed": false
   },
   "outputs": [],
   "source": [
    "from sklearn.svm import LinearSVC, SVC\n",
    "\n",
    "Cs = [0.001, 0.01, 0.1, 1, 10]\n",
    "gammas = [0.001, 0.01, 0.1, 1, 10]\n",
    "param_grid = {'C': Cs, 'gamma' : gammas}\n",
    "\n",
    "kf = StratifiedKFold(Y, n_folds=3, random_state=1)   \n",
    "grid_search = GridSearchCV(SVC(), param_grid, cv=kf)\n",
    "grid_search.fit(X, Y)"
   ]
  },
  {
   "cell_type": "code",
   "execution_count": null,
   "metadata": {
    "collapsed": false
   },
   "outputs": [],
   "source": [
    "print(\"The best parameters are %s with a score of %0.2f\"\n",
    "      % (grid_search.best_params_, grid_search.best_score_))"
   ]
  },
  {
   "cell_type": "code",
   "execution_count": 40,
   "metadata": {
    "collapsed": true
   },
   "outputs": [],
   "source": [
    "print \"Score de validation\", validation(grid_search.best_estimator_, XValid, YValid)"
   ]
  },
  {
   "cell_type": "markdown",
   "metadata": {
    "collapsed": false
   },
   "source": [
    "<h3><span style=\"color: #3366ff;\">Modèle : Boosting + SVM</span></h3>"
   ]
  },
  {
   "cell_type": "code",
   "execution_count": 41,
   "metadata": {
    "collapsed": false
   },
   "outputs": [],
   "source": [
    "from sklearn.ensemble import AdaBoostClassifier\n",
    "nb_estimators = [5,10]\n",
    "line_rate = [1.0, 0.8, 0.6, 0.4]\n",
    "param_grid = {'n_estimators': nb_estimators, 'learning_rate' : [1.0]}\n",
    "\n",
    "clf = AdaBoostClassifier(SVC(probability=True,kernel='linear'), algorithm='SAMME')\n",
    "\n",
    "BoostSvm_SG = GridSearchCV(clf, param_grid)"
   ]
  },
  {
   "cell_type": "code",
   "execution_count": null,
   "metadata": {
    "collapsed": true
   },
   "outputs": [],
   "source": [
    "BoostSvm_SG.fit(X, Y)"
   ]
  },
  {
   "cell_type": "code",
   "execution_count": null,
   "metadata": {
    "collapsed": true
   },
   "outputs": [],
   "source": [
    "print(\"The best parameters are %s with a score of %0.2f\"\n",
    "      % (BoostSvm_SG.best_params_, BoostSvm_SG.best_score_))"
   ]
  },
  {
   "cell_type": "code",
   "execution_count": null,
   "metadata": {
    "collapsed": true
   },
   "outputs": [],
   "source": [
    "print \"Score de validation\", validation(BoostSvm_SG.best_estimator_, XValid, YValid)"
   ]
  },
  {
   "cell_type": "markdown",
   "metadata": {
    "collapsed": false
   },
   "source": [
    "<h3><span style=\"color: #3366ff;\">Modèle : VotingClassifier </span></h3>"
   ]
  },
  {
   "cell_type": "code",
   "execution_count": null,
   "metadata": {
    "collapsed": true
   },
   "outputs": [],
   "source": [
    "from sklearn.ensemble import VotingClassifier\n",
    "from sklearn.linear_model import LogisticRegression\n",
    "\n",
    "kf = StratifiedKFold(Y, n_folds=3, random_state=1)   \n",
    "\n",
    "clf1 = LogisticRegression(random_state=1, n_jobs=3)\n",
    "clf2 = RandomForestClassifier(random_state=1, max_depth=6, min_samples_leaf=7)\n",
    "\n",
    "eclf = VotingClassifier(estimators=[('lr', clf1), ('rf', clf2)], voting='soft')\n",
    "\n",
    "for clf, label in zip([clf1, clf2, eclf], ['Logistic Regression', 'Random Forest', 'Ensemble']):\n",
    "        scores = cross_validation.cross_val_score(clf, X, Y, cv=kf, scoring='metric')\n",
    "        print(\"Accuracy: %0.2f (+/- %0.2f) [%s]\" % (scores.mean(), scores.std(), label))"
   ]
  },
  {
   "cell_type": "code",
   "execution_count": null,
   "metadata": {
    "collapsed": true
   },
   "outputs": [],
   "source": [
    "# Training classifiers\n",
    "kf = StratifiedKFold(Y, n_folds=3, random_state=1) \n",
    "\n",
    "#clf1 = DecisionTreeClassifier(random_state=1, max_depth=6, min_samples_leaf=4)\n",
    "clf1 = Random_Forest_GS[6]\n",
    "clf2 = KNeighborsClassifier(n_neighbors=7)\n",
    "clf3 = SVC(kernel='rbf', probability=True)\n",
    "clf4 = LogisticRegression(random_state=1, n_jobs=3)\n",
    "\n",
    "eclf = VotingClassifier(estimators=[('dt', clf1), ('knn', clf2), ('svc', clf3), ('lr', clf4)], voting='hard')\n",
    "\n",
    "for clf, label in zip([clf1, clf2, clf3, clf4, eclf], ['Descion tree', 'K neighbors', 'svm', 'Logistic Regression', 'Ensemble']):\n",
    "        scores = cross_validation.cross_val_score(clf, X, Y, cv=kf, scoring='metric')\n",
    "        print(\"Accuracy: %0.2f (+/- %0.2f) [%s]\" % (scores.mean(), scores.std(), label))\n",
    "\n",
    "#clf1 = clf1.fit(X,y)\n",
    "clf2 = clf2.fit(X,y)\n",
    "clf3 = clf3.fit(X,y)\n",
    "clf4 = clf4.fit(X,y)\n",
    "eclf = eclf.fit(X,y)"
   ]
  },
  {
   "cell_type": "code",
   "execution_count": null,
   "metadata": {
    "collapsed": true
   },
   "outputs": [],
   "source": []
  },
  {
   "cell_type": "markdown",
   "metadata": {},
   "source": [
    "<br/><br/><br/><br/><br/>\n",
    "\n",
    "# END\n",
    "\n",
    "<br/><br/><br/><br/><br/><br/><br/>"
   ]
  }
 ],
 "metadata": {
  "kernelspec": {
   "display_name": "Python 2",
   "language": "python",
   "name": "python2"
  },
  "language_info": {
   "codemirror_mode": {
    "name": "ipython",
    "version": 2
   },
   "file_extension": ".py",
   "mimetype": "text/x-python",
   "name": "python",
   "nbconvert_exporter": "python",
   "pygments_lexer": "ipython2",
   "version": "2.7.6"
  }
 },
 "nbformat": 4,
 "nbformat_minor": 0
}
